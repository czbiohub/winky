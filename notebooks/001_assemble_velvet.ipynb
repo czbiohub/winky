{
 "cells": [
  {
   "cell_type": "code",
   "execution_count": 2,
   "metadata": {
    "collapsed": true
   },
   "outputs": [],
   "source": [
    "velveth = '/Users/olgabot/anaconda3/envs/winky/bin/velveth'\n",
    "velvetg = '/Users/olgabot/anaconda3/envs/winky/bin/velvetg'"
   ]
  },
  {
   "cell_type": "markdown",
   "metadata": {},
   "source": [
    "## `velveth`: Hash the files\n"
   ]
  },
  {
   "cell_type": "code",
   "execution_count": 13,
   "metadata": {},
   "outputs": [
    {
     "name": "stdout",
     "output_type": "stream",
     "text": [
      "velveth - simple hashing program\r\n",
      "Version 1.2.10\r\n",
      "\r\n",
      "Copyright 2007, 2008 Daniel Zerbino (zerbino@ebi.ac.uk)\r\n",
      "This is free software; see the source for copying conditions.  There is NO\r\n",
      "warranty; not even for MERCHANTABILITY or FITNESS FOR A PARTICULAR PURPOSE.\r\n",
      "\r\n",
      "Compilation settings:\r\n",
      "CATEGORIES = 4\r\n",
      "MAXKMERLENGTH = 191\r\n",
      "OPENMP\r\n",
      "LONGSEQUENCES\r\n",
      "\r\n",
      "Usage:\r\n",
      "./velveth directory hash_length {[-file_format][-read_type][-separate|-interleaved] filename1 [filename2 ...]} {...} [options]\r\n",
      "\r\n",
      "\tdirectory\t: directory name for output files\r\n",
      "\thash_length\t: EITHER an odd integer (if even, it will be decremented) <= 191 (if above, will be reduced)\r\n",
      "\t\t\t: OR: m,M,s where m and M are odd integers (if not, they will be decremented) with m < M <= 191 (if above, will be reduced)\r\n",
      "\t\t\t\tand s is a step (even number). Velvet will then hash from k=m to k=M with a step of s\r\n",
      "\tfilename\t: path to sequence file or - for standard input\r\n",
      "\r\n",
      "File format options:\r\n",
      "\t-fasta\t-fastq\t-raw\t-fasta.gz\t-fastq.gz\t-raw.gz\t-sam\t-bam\t-fmtAuto\r\n",
      "\t(Note: -fmtAuto will detect fasta or fastq, and will try the following programs for decompression : gunzip, pbunzip2, bunzip2\r\n",
      "\r\n",
      "File layout options for paired reads (only for fasta and fastq formats):\r\n",
      "\t-interleaved\t: File contains paired reads interleaved in the one file (default)\r\n",
      "\t-separate\t: Read 2 separate files for paired reads\r\n",
      "\r\n",
      "Read type options:\r\n",
      "\t-short\t-shortPaired\r\n",
      "\t-short2\t-shortPaired2\r\n",
      "\t-short3\t-shortPaired3\r\n",
      "\t-short4\t-shortPaired4\r\n",
      "\t-long\t-longPaired\r\n",
      "\t-reference\r\n",
      "\r\n",
      "Options:\r\n",
      "\t-strand_specific\t: for strand specific transcriptome sequencing data (default: off)\r\n",
      "\t-reuse_Sequences\t: reuse Sequences file (or link) already in directory (no need to provide original filenames in this case (default: off)\r\n",
      "\t-reuse_binary\t: reuse binary sequences file (or link) already in directory (no need to provide original filenames in this case (default: off)\r\n",
      "\t-noHash\t\t\t: simply prepare Sequences file, do not hash reads or prepare Roadmaps file (default: off)\r\n",
      "\t-create_binary  \t: create binary CnyUnifiedSeq file (default: off)\r\n",
      "\r\n",
      "Synopsis:\r\n",
      "\r\n",
      "- Short single end reads:\r\n",
      "\tvelveth Assem 29 -short -fastq s_1_sequence.txt\r\n",
      "\r\n",
      "- Paired-end short reads (remember to interleave paired reads):\r\n",
      "\tvelveth Assem 31 -shortPaired -fasta interleaved.fna\r\n",
      "\r\n",
      "- Paired-end short reads (using separate files for the paired reads)\r\n",
      "\tvelveth Assem 31 -shortPaired -fasta -separate left.fa right.fa\r\n",
      "\r\n",
      "- Two channels and some long reads:\r\n",
      "\tvelveth Assem 43 -short -fastq unmapped.fna -longPaired -fasta SangerReads.fasta\r\n",
      "\r\n",
      "- Three channels:\r\n",
      "\tvelveth Assem 35 -shortPaired -fasta pe_lib1.fasta -shortPaired2 pe_lib2.fasta -short3 se_lib1.fa\r\n",
      "\r\n",
      "Output:\r\n",
      "\tdirectory/Roadmaps\r\n",
      "\tdirectory/Sequences\r\n",
      "\t\t[Both files are picked up by graph, so please leave them there]\r\n"
     ]
    }
   ],
   "source": [
    "! $velveth"
   ]
  },
  {
   "cell_type": "code",
   "execution_count": 22,
   "metadata": {},
   "outputs": [
    {
     "name": "stdout",
     "output_type": "stream",
     "text": [
      "000_plotting_traces.ipynb         \u001b[31mZN-3_ZNir1__2017-06-07_G01.ab1\u001b[m\u001b[m*\r\n",
      "001_assemble_velvet.ipynb         \u001b[31mZN-3_pCAGGSf__2017-05-31_C06.ab1\u001b[m\u001b[m*\r\n",
      "\u001b[31mCloneQC_DataSet_README.md\u001b[m\u001b[m*        \u001b[31mZN-3_pCAGGSr__2017-05-31_A04.ab1\u001b[m\u001b[m*\r\n",
      "\u001b[1m\u001b[36mZN-1.21\u001b[m\u001b[m/                          \u001b[31mZN_refSeq.fasta\u001b[m\u001b[m*\r\n",
      "\u001b[31mZN-1_ZNif1__2017-06-07_B01.ab1\u001b[m\u001b[m*   ZN_refSeq.fasta.amb\r\n",
      "\u001b[31mZN-1_ZNir1__2017-06-07_E01.ab1\u001b[m\u001b[m*   ZN_refSeq.fasta.ann\r\n",
      "\u001b[31mZN-1_pCAGGSf__2017-05-31_A06.ab1\u001b[m\u001b[m* ZN_refSeq.fasta.bwt\r\n",
      "\u001b[31mZN-1_pCAGGSr__2017-05-31_G03.ab1\u001b[m\u001b[m* ZN_refSeq.fasta.pac\r\n",
      "\u001b[31mZN-2_ZNif1__2017-06-07_C01.ab1\u001b[m\u001b[m*   ZN_refSeq.fasta.sa\r\n",
      "\u001b[31mZN-2_ZNir1__2017-06-07_F01.ab1\u001b[m\u001b[m*   example.fastq\r\n",
      "\u001b[31mZN-2_pCAGGSf__2017-05-31_B06.ab1\u001b[m\u001b[m* \u001b[1m\u001b[36mhash-ZN-1.21\u001b[m\u001b[m/\r\n",
      "\u001b[31mZN-2_pCAGGSr__2017-05-31_H03.ab1\u001b[m\u001b[m* sanger.py\r\n",
      "\u001b[31mZN-3_ZNif1__2017-06-07_D01.ab1\u001b[m\u001b[m*\r\n"
     ]
    }
   ],
   "source": [
    "ls"
   ]
  },
  {
   "cell_type": "code",
   "execution_count": 21,
   "metadata": {},
   "outputs": [
    {
     "name": "stdout",
     "output_type": "stream",
     "text": [
      "ZN-1-concatenated.fastq             \u001b[31mZN-2_ZNif1__2017-06-07_C01.ab1\u001b[m\u001b[m*\r\n",
      "\u001b[31mZN-1_ZNif1__2017-06-07_B01.ab1\u001b[m\u001b[m*     \u001b[31mZN-2_ZNir1__2017-06-07_F01.ab1\u001b[m\u001b[m*\r\n",
      "ZN-1_ZNif1__2017-06-07_B01.fastq    \u001b[31mZN-2_pCAGGSf__2017-05-31_B06.ab1\u001b[m\u001b[m*\r\n",
      "\u001b[31mZN-1_ZNir1__2017-06-07_E01.ab1\u001b[m\u001b[m*     \u001b[31mZN-2_pCAGGSr__2017-05-31_H03.ab1\u001b[m\u001b[m*\r\n",
      "ZN-1_ZNir1__2017-06-07_E01.fastq    \u001b[31mZN-3_ZNif1__2017-06-07_D01.ab1\u001b[m\u001b[m*\r\n",
      "\u001b[31mZN-1_pCAGGSf__2017-05-31_A06.ab1\u001b[m\u001b[m*   \u001b[31mZN-3_ZNir1__2017-06-07_G01.ab1\u001b[m\u001b[m*\r\n",
      "ZN-1_pCAGGSf__2017-05-31_A06.fastq  \u001b[31mZN-3_pCAGGSf__2017-05-31_C06.ab1\u001b[m\u001b[m*\r\n",
      "\u001b[31mZN-1_pCAGGSr__2017-05-31_G03.ab1\u001b[m\u001b[m*   \u001b[31mZN-3_pCAGGSr__2017-05-31_A04.ab1\u001b[m\u001b[m*\r\n",
      "ZN-1_pCAGGSr__2017-05-31_G03.fastq\r\n"
     ]
    }
   ],
   "source": [
    "ls ../winky/test/data/"
   ]
  },
  {
   "cell_type": "code",
   "execution_count": 23,
   "metadata": {},
   "outputs": [
    {
     "name": "stdout",
     "output_type": "stream",
     "text": [
      "[0.000000] Reading FastQ file ../winky/test/data/ZN-1_ZNif1__2017-06-07_B01.fastq;\n",
      "[0.000109] 1 sequences found\n",
      "[0.000114] Done\n",
      "[0.000409] Reading FastQ file ../winky/test/data/ZN-1_ZNir1__2017-06-07_E01.fastq;\n",
      "[0.000497] 1 sequences found\n",
      "[0.000502] Done\n",
      "[0.000794] Reading FastQ file ../winky/test/data/ZN-1_pCAGGSf__2017-05-31_A06.fastq;\n",
      "[0.000839] 1 sequences found\n",
      "[0.000842] Done\n",
      "[0.001129] Reading FastQ file ../winky/test/data/ZN-1_pCAGGSr__2017-05-31_G03.fastq;\n",
      "[0.001177] 1 sequences found\n",
      "[0.001181] Done\n",
      "[0.168874] Reading read set file hash-ZN-1.21/Sequences;\n",
      "[0.168919] 4 sequences found\n",
      "[0.168973] Done\n",
      "[0.168975] 4 sequences in total.\n",
      "[0.169022] Writing into roadmap file hash-ZN-1.21/Roadmaps...\n",
      "[0.169109] Inputting sequences...\n",
      "[0.169349] Inputting sequence 0 / 4\n",
      "[0.174177]  === Sequences loaded in 0.005105 s\n",
      "[0.174309] Done inputting sequences\n",
      "[0.174313] Destroying splay table\n",
      "[0.175501] Splay table destroyed\n"
     ]
    }
   ],
   "source": [
    "\n",
    "! $velveth hash-ZN-1.21 21 -fastq -long ../winky/test/data/ZN-1_*.fastq"
   ]
  },
  {
   "cell_type": "markdown",
   "metadata": {},
   "source": [
    "## `velvetg`: Make de bruijn graph"
   ]
  },
  {
   "cell_type": "code",
   "execution_count": 24,
   "metadata": {},
   "outputs": [
    {
     "name": "stdout",
     "output_type": "stream",
     "text": [
      "velvetg - de Bruijn graph construction, error removal and repeat resolution\r\n",
      "Version 1.2.10\r\n",
      "Copyright 2007, 2008 Daniel Zerbino (zerbino@ebi.ac.uk)\r\n",
      "This is free software; see the source for copying conditions.  There is NO\r\n",
      "warranty; not even for MERCHANTABILITY or FITNESS FOR A PARTICULAR PURPOSE.\r\n",
      "Compilation settings:\r\n",
      "CATEGORIES = 4\r\n",
      "MAXKMERLENGTH = 191\r\n",
      "OPENMP\r\n",
      "LONGSEQUENCES\r\n",
      "\r\n",
      "Usage:\r\n",
      "./velvetg directory [options]\r\n",
      "\r\n",
      "\tdirectory\t\t\t: working directory name\r\n",
      "\r\n",
      "Standard options:\r\n",
      "\t-cov_cutoff <floating-point|auto>\t: removal of low coverage nodes AFTER tour bus or allow the system to infer it\r\n",
      "\t\t(default: no removal)\r\n",
      "\t-ins_length <integer>\t\t: expected distance between two paired end reads (default: no read pairing)\r\n",
      "\t-read_trkg <yes|no>\t\t: tracking of short read positions in assembly (default: no tracking)\r\n",
      "\t-min_contig_lgth <integer>\t: minimum contig length exported to contigs.fa file (default: hash length * 2)\r\n",
      "\t-amos_file <yes|no>\t\t: export assembly to AMOS file (default: no export)\r\n",
      "\t-exp_cov <floating point|auto>\t: expected coverage of unique regions or allow the system to infer it\r\n",
      "\t\t(default: no long or paired-end read resolution)\r\n",
      "\t-long_cov_cutoff <floating-point>: removal of nodes with low long-read coverage AFTER tour bus\r\n",
      "\t\t(default: no removal)\r\n",
      "\r\n",
      "Advanced options:\r\n",
      "\t-ins_length* <integer>\t\t: expected distance between two paired-end reads in the respective short-read dataset (default: no read pairing)\r\n",
      "\t-ins_length_long <integer>\t: expected distance between two long paired-end reads (default: no read pairing)\r\n",
      "\t-ins_length*_sd <integer>\t: est. standard deviation of respective dataset (default: 10% of corresponding length)\r\n",
      "\t\t[replace '*' by nothing, '2' or '_long' as necessary]\r\n",
      "\t-scaffolding <yes|no>\t\t: scaffolding of contigs used paired end information (default: on)\r\n",
      "\t-max_branch_length <integer>\t: maximum length in base pair of bubble (default: 100)\r\n",
      "\t-max_divergence <floating-point>: maximum divergence rate between two branches in a bubble (default: 0.2)\r\n",
      "\t-max_gap_count <integer>\t: maximum number of gaps allowed in the alignment of the two branches of a bubble (default: 3)\r\n",
      "\t-min_pair_count <integer>\t: minimum number of paired end connections to justify the scaffolding of two long contigs (default: 5)\r\n",
      "\t-max_coverage <floating point>\t: removal of high coverage nodes AFTER tour bus (default: no removal)\r\n",
      "\t-coverage_mask <int>\t: minimum coverage required for confident regions of contigs (default: 1)\r\n",
      "\t-long_mult_cutoff <int>\t\t: minimum number of long reads required to merge contigs (default: 2)\r\n",
      "\t-unused_reads <yes|no>\t\t: export unused reads in UnusedReads.fa file (default: no)\r\n",
      "\t-alignments <yes|no>\t\t: export a summary of contig alignment to the reference sequences (default: no)\r\n",
      "\t-exportFiltered <yes|no>\t: export the long nodes which were eliminated by the coverage filters (default: no)\r\n",
      "\t-clean <yes|no>\t\t\t: remove all the intermediary files which are useless for recalculation (default : no)\r\n",
      "\t-very_clean <yes|no>\t\t: remove all the intermediary files (no recalculation possible) (default: no)\r\n",
      "\t-paired_exp_fraction <double>\t: remove all the paired end connections which less than the specified fraction of the expected count (default: 0.1)\r\n",
      "\t-shortMatePaired* <yes|no>\t: for mate-pair libraries, indicate that the library might be contaminated with paired-end reads (default no)\r\n",
      "\t-conserveLong <yes|no>\t\t: preserve sequences with long reads in them (default no)\r\n",
      "\r\n",
      "Output:\r\n",
      "\tdirectory/contigs.fa\t\t: fasta file of contigs longer than twice hash length\r\n",
      "\tdirectory/stats.txt\t\t: stats file (tab-spaced) useful for determining appropriate coverage cutoff\r\n",
      "\tdirectory/LastGraph\t\t: special formatted file with all the information on the final graph\r\n",
      "\tdirectory/velvet_asm.afg\t: (if requested) AMOS compatible assembly file\r\n"
     ]
    }
   ],
   "source": [
    "! $velvetg"
   ]
  },
  {
   "cell_type": "code",
   "execution_count": 25,
   "metadata": {},
   "outputs": [
    {
     "name": "stdout",
     "output_type": "stream",
     "text": [
      "[0.000000] Reading roadmap file hash-ZN-1.21/Roadmaps\n",
      "[0.000076] 4 roadmaps read\n",
      "[0.000114] Creating insertion markers\n",
      "[0.000118] Ordering insertion markers\n",
      "[0.000402] Counting preNodes\n",
      "[0.000408] 13 preNodes counted, creating them now\n",
      "[0.000666] Adjusting marker info...\n",
      "[0.000747] Connecting preNodes\n",
      "[0.000816] Cleaning up memory\n",
      "[0.000823] Done creating preGraph\n",
      "[0.000825] Concatenation...\n",
      "[0.000856] Renumbering preNodes\n",
      "[0.000859] Initial preNode count 13\n",
      "[0.000871] Destroyed 5 preNodes\n",
      "[0.000873] Concatenation over!\n",
      "[0.000875] Clipping short tips off preGraph\n",
      "[0.000879] Concatenation...\n",
      "[0.000890] Renumbering preNodes\n",
      "[0.000891] Initial preNode count 8\n",
      "[0.000894] Destroyed 4 preNodes\n",
      "[0.000895] Concatenation over!\n",
      "[0.000896] 2 tips cut off\n",
      "[0.000898] 4 nodes left\n",
      "[0.001016] Writing into pregraph file hash-ZN-1.21/PreGraph...\n",
      "[0.001659] Reading read set file hash-ZN-1.21/Sequences;\n",
      "[0.001678] 4 sequences found\n",
      "[0.001722] Done\n",
      "[0.001781] Reading pre-graph file hash-ZN-1.21/PreGraph\n",
      "[0.001787] Graph has 4 nodes and 4 sequences\n",
      "[0.002195] Scanning pre-graph file hash-ZN-1.21/PreGraph for k-mers\n",
      "[0.002331] 2548 kmers found\n",
      "[0.002653] Sorting kmer occurence table ... \n",
      "[0.003430] Sorting done.\n",
      "[0.003434] Computing acceleration table... \n",
      "[0.038649] Computing offsets... \n",
      "[0.038820] Ghost Threading through reads 0 / 4\n",
      "[0.038862]  === Ghost-Threaded in 0.000174 s\n",
      "[0.038892] Threading through reads 0 / 4\n",
      "[0.050630]  === Threaded in 0.011765 s\n",
      "[0.058932] Correcting graph with cutoff 0.200000\n",
      "[0.059012] Determining eligible starting points\n",
      "[0.059042] Done listing starting nodes\n",
      "[0.059044] Initializing todo lists\n",
      "[0.059046] Done with initilization\n",
      "[0.059047] Activating arc lookup table\n",
      "[0.059051] Done activating arc lookup table\n",
      "[0.061429] Concatenation...\n",
      "[0.061440] Renumbering nodes\n",
      "[0.061442] Initial node count 4\n",
      "[0.061445] Removed 3 null nodes\n",
      "[0.061446] Concatenation over!\n",
      "[0.061448] Clipping short tips off graph, drastic\n",
      "[0.061449] Concatenation...\n",
      "[0.061451] Renumbering nodes\n",
      "[0.061452] Initial node count 1\n",
      "[0.061453] Removed 0 null nodes\n",
      "[0.061455] Concatenation over!\n",
      "[0.061456] 1 nodes left\n",
      "[0.061637] Writing into graph file hash-ZN-1.21/Graph2...\n",
      "[0.062216] Measuring median coverage depth...\n",
      "[0.062222] Median coverage depth = 0.000000\n",
      "[0.062251] Removing contigs with coverage < 0.000000...\n",
      "[0.062255] Concatenation...\n",
      "[0.062256] Renumbering nodes\n",
      "[0.062258] Initial node count 1\n",
      "[0.062260] Removed 0 null nodes\n",
      "[0.062261] Concatenation over!\n",
      "[0.062263] Concatenation...\n",
      "[0.062264] Renumbering nodes\n",
      "[0.062265] Initial node count 1\n",
      "[0.062267] Removed 0 null nodes\n",
      "[0.062268] Concatenation over!\n",
      "[0.062272] Clipping short tips off graph, drastic\n",
      "[0.062273] Concatenation...\n",
      "[0.062275] Renumbering nodes\n",
      "[0.062276] Initial node count 1\n",
      "[0.062278] Removed 0 null nodes\n",
      "[0.062279] Concatenation over!\n",
      "[0.062281] 1 nodes left\n",
      "[0.062282] WARNING: NO EXPECTED COVERAGE PROVIDED\n",
      "[0.062284] Velvet will be unable to resolve any repeats\n",
      "[0.062285] See manual for instructions on how to set the expected coverage parameter\n",
      "[0.062287] Concatenation...\n",
      "[0.062288] Renumbering nodes\n",
      "[0.062289] Initial node count 1\n",
      "[0.062291] Removed 0 null nodes\n",
      "[0.062292] Concatenation over!\n",
      "[0.062293] Removing reference contigs with coverage < 0.000000...\n",
      "[0.062295] Concatenation...\n",
      "[0.062297] Renumbering nodes\n",
      "[0.062298] Initial node count 1\n",
      "[0.062299] Removed 0 null nodes\n",
      "[0.062301] Concatenation over!\n",
      "[0.062318] Writing contigs into hash-ZN-1.21/contigs.fa...\n",
      "[0.062712] Writing into stats file hash-ZN-1.21/stats.txt...\n",
      "[0.062763] Writing into graph file hash-ZN-1.21/LastGraph...\n",
      "[0.063270] Estimated Coverage = 0.000000\n",
      "[0.063274] Estimated Coverage cutoff = 0.000000\n",
      "Final graph has 1 nodes and n50 of 2529, max 2529, total 2529, using 4/4 reads\n"
     ]
    }
   ],
   "source": [
    "! $velvetg hash-ZN-1.21 -exp_cov auto"
   ]
  },
  {
   "cell_type": "code",
   "execution_count": 26,
   "metadata": {},
   "outputs": [
    {
     "name": "stdout",
     "output_type": "stream",
     "text": [
      "000_plotting_traces.ipynb         \u001b[31mZN-3_ZNir1__2017-06-07_G01.ab1\u001b[m\u001b[m*\r\n",
      "001_assemble_velvet.ipynb         \u001b[31mZN-3_pCAGGSf__2017-05-31_C06.ab1\u001b[m\u001b[m*\r\n",
      "\u001b[31mCloneQC_DataSet_README.md\u001b[m\u001b[m*        \u001b[31mZN-3_pCAGGSr__2017-05-31_A04.ab1\u001b[m\u001b[m*\r\n",
      "\u001b[1m\u001b[36mZN-1.21\u001b[m\u001b[m/                          \u001b[31mZN_refSeq.fasta\u001b[m\u001b[m*\r\n",
      "\u001b[31mZN-1_ZNif1__2017-06-07_B01.ab1\u001b[m\u001b[m*   ZN_refSeq.fasta.amb\r\n",
      "\u001b[31mZN-1_ZNir1__2017-06-07_E01.ab1\u001b[m\u001b[m*   ZN_refSeq.fasta.ann\r\n",
      "\u001b[31mZN-1_pCAGGSf__2017-05-31_A06.ab1\u001b[m\u001b[m* ZN_refSeq.fasta.bwt\r\n",
      "\u001b[31mZN-1_pCAGGSr__2017-05-31_G03.ab1\u001b[m\u001b[m* ZN_refSeq.fasta.pac\r\n",
      "\u001b[31mZN-2_ZNif1__2017-06-07_C01.ab1\u001b[m\u001b[m*   ZN_refSeq.fasta.sa\r\n",
      "\u001b[31mZN-2_ZNir1__2017-06-07_F01.ab1\u001b[m\u001b[m*   example.fastq\r\n",
      "\u001b[31mZN-2_pCAGGSf__2017-05-31_B06.ab1\u001b[m\u001b[m* \u001b[1m\u001b[36mhash-ZN-1.21\u001b[m\u001b[m/\r\n",
      "\u001b[31mZN-2_pCAGGSr__2017-05-31_H03.ab1\u001b[m\u001b[m* sanger.py\r\n",
      "\u001b[31mZN-3_ZNif1__2017-06-07_D01.ab1\u001b[m\u001b[m*\r\n"
     ]
    }
   ],
   "source": [
    "ls"
   ]
  },
  {
   "cell_type": "code",
   "execution_count": 27,
   "metadata": {},
   "outputs": [
    {
     "name": "stdout",
     "output_type": "stream",
     "text": [
      "total 80\r\n",
      "drwxr-xr-x  10 olgabot  staff   340B Sep 15 15:21 \u001b[1m\u001b[36m.\u001b[m\u001b[m/\r\n",
      "drwxr-xr-x@ 28 olgabot  staff   952B Sep 15 15:21 \u001b[1m\u001b[36m..\u001b[m\u001b[m/\r\n",
      "-rw-r--r--   1 olgabot  staff   5.1K Sep 15 15:21 Graph2\r\n",
      "-rw-r--r--   1 olgabot  staff   5.1K Sep 15 15:21 LastGraph\r\n",
      "-rw-r--r--   1 olgabot  staff   3.1K Sep 15 15:21 Log\r\n",
      "-rw-r--r--   1 olgabot  staff   2.6K Sep 15 15:21 PreGraph\r\n",
      "-rw-r--r--   1 olgabot  staff   118B Sep 15 15:21 Roadmaps\r\n",
      "-rw-r--r--   1 olgabot  staff   3.9K Sep 15 15:21 Sequences\r\n",
      "-rw-r--r--   1 olgabot  staff   2.6K Sep 15 15:21 contigs.fa\r\n",
      "-rw-r--r--   1 olgabot  staff   266B Sep 15 15:21 stats.txt\r\n"
     ]
    }
   ],
   "source": [
    "ls -lha hash-ZN-1.21/"
   ]
  },
  {
   "cell_type": "code",
   "execution_count": 29,
   "metadata": {},
   "outputs": [
    {
     "name": "stdout",
     "output_type": "stream",
     "text": [
      ">NODE_1_length_2529_cov_1.457098\r\n",
      "GCTGTCCGCGGGGGGACGGCTGCCTTCGGGGGGGACGGGGCAGGGCGGGGTTCGGCTTCT\r\n",
      "GGCGTGTGACCGGCGGCTCTAGAGCCTCTGCTAACCATGTTCATGCCTTCTTCTTTTTCC\r\n",
      "TACAGCTCCTGGGCAACGTGCTGGTTATTGTGCTGTCTCATCATTTTGGCAAAGAATTCA\r\n",
      "TGGATAGCCGCCCACAGAAAATTTGGATGGCACCATCCCTGACCGAAAGTGATATGGACT\r\n",
      "ATCATAAGATTTTGACTGCCGGCTTGAGTGTACAACAAGGGATTGTAAGACAGAGAGTTA\r\n",
      "TCCCGGTCTACCAAGTGAACAATTTGGAAGAGATCTGTCAGCTGATTATCCAGGCGTTTG\r\n",
      "AAGCGGGCGTAGATTTCCAAGAATCAGCCGATTCTTTTCTCCTTATGCTGTGCCTTCATC\r\n",
      "ACGCATATCAAGGTGATTATAAACTCTTCTTGGAATCTGGCGCGGTCAAATACTTGGAAG\r\n",
      "GGCATGGTTTCAGATTCGAGGTGAAGAAAAGGGACGGAGTCAAGAGGCTGGAGGAGCTTC\r\n",
      "TGCCGGCCGTTTCTAGTGGCAAAAACATTAAACGCACACTCGCCGCGATGCCTGAAGAGG\r\n",
      "AGACTACAGAAGCGAATGCCGGCCAATTTCTGTCATTCGCGTCTTTGTTCCTGCCAAAGC\r\n",
      "TCGTAGTAGGTGAAAAAGCATGCCTGGAAAAAGTACAGCGCCAAATTCAGGTGCATGCCG\r\n",
      "AACAAGGTCTTATCCAGTACCCAACGGCTTGGCAGTCAGTTGGCCACATGATGGTGATCT\r\n",
      "TTAGACTTATGCGAACAAACTTTCTGATCAAGTTCCTGTTGATTCACCAAGGTATGCATA\r\n",
      "TGGTAGCCGGGCACGACGCCAATGATGCTGTCATAAGCAATAGCGTTGCGCAAGCGCGAT\r\n",
      "TTTCAGGGCTTCTGATCGTGAAAACAGTTCTCGATCATATTCTGCAAAAGACAGAACGCG\r\n",
      "GCGTCCGATTGCATCCTCTCGCACGGACGGCTAAGGTGAAAAATGAGGTCAACTCTTTCA\r\n",
      "AGGCCGCACTGAGCTCTCTGGCAAAACACGGGGAATATGCCCCATTCGCGAGACTGCTTA\r\n",
      "ATTTGTCTGGAGTCAACAATCTGGAGCATGGGCTTTTTCCGCAACTTAGTGCGATTGCCC\r\n",
      "TGGGGGTAGCTACAGCACACGGTAGCACTTTGGCCGGCGTTAACGTCGGTGAGCAATATC\r\n",
      "AACAACTGCGAGAAGCAGCGACGGAGGCAGAGAAACAACTGCAACAGTATGCCGAGTCTA\r\n",
      "GGGAACTGGATCACCTCGGTCTGGATGACCAGGAAAAGAAAATTCTCATGAACTTTCATC\r\n",
      "AAAAGAAGAACGAGATATCATTTCAGCAGACTAATGCGATGGTCACTCTTCGGAAAGAGC\r\n",
      "GACTTGCTAAACTCACAGAAGCGATAACAGCAGCATCCTTGCCGAAGACATCAGGCCACT\r\n",
      "ATGACGACGACGACGATATTCCCTTTCCGGGTCCGATTAACGATGACGATAACCCGGGTC\r\n",
      "ATCAAGACGATGATCCCACAGACTCCCAGGACACCACCATCCCCGATGTAGTTGTGGATC\r\n",
      "CTGATGATGGCTCATACGGCGAGTACCAAAGCTATAGTGAGAATGGCATGAACGCCCCGG\r\n",
      "ACGATTTGGTATTGTTCGACCTCGATGAAGATGACGAGGATACTAAGCCTGTACCCAACC\r\n",
      "GAAGTACCAAGGGCGGCCAGCAAAAAAACAGCCAAAAGGGACAACATATTGAAGGGAGGC\r\n",
      "AGACGCAATCCAGACCGATACAAAAtgtcccgggtccccaccgcaccattcaccatgctt\r\n",
      "ccgctccactcactgacaatgatagacgaaatgaaccttcaggttccaccagtcctagga\r\n",
      "tgctcacccccattaacgaagaggcagatccgctggatgacgcggacgacgagactagta\r\n",
      "gccttccgccgcttgagtctgacgacgaagagcaagatagggatggcacatctaaccgga\r\n",
      "ctcctaccgtcgcgcctccggccccggtttaccgcgaccactccgaaaagaaggagctcc\r\n",
      "cacaggacgagcaacaggaccaagaccatacgcaagaggctagaaatcaagacagtgaca\r\n",
      "acacccaatctgagcactcattcgaggagatgtacaggcatatattgaggagccaagggc\r\n",
      "cgttcgatgcggtattgtactatcacatgatgaaggacgaaccggtcgtcttttcaacct\r\n",
      "ctgacggaaaggagtatacatacccagacagcctcgaggaggagtacccaccatggctta\r\n",
      "cggaaaaggaggcgatgaatgaggaaaacaggtttgttacgctcgatgggcagcaattct\r\n",
      "actggcctgtaatgaatcataagaataaatttatggcgatactgcaacaccaccaatgag\r\n",
      "aattcgagctcatcgatgcatggtacccgggcatgctcgagctagcagatctttttccct\r\n",
      "ctgccaaaaattatggggacatcatgaagccccttgagcatctgacttcggctaataaag\r\n",
      "gaaatttattttcattgcaatagtgtgtg\r\n"
     ]
    }
   ],
   "source": [
    "cat hash-ZN-1.21/contigs.fa"
   ]
  },
  {
   "cell_type": "code",
   "execution_count": null,
   "metadata": {
    "collapsed": true
   },
   "outputs": [],
   "source": []
  },
  {
   "cell_type": "code",
   "execution_count": null,
   "metadata": {
    "collapsed": true
   },
   "outputs": [],
   "source": []
  }
 ],
 "metadata": {
  "kernelspec": {
   "display_name": "Python 3",
   "language": "python",
   "name": "python3"
  },
  "language_info": {
   "codemirror_mode": {
    "name": "ipython",
    "version": 3
   },
   "file_extension": ".py",
   "mimetype": "text/x-python",
   "name": "python",
   "nbconvert_exporter": "python",
   "pygments_lexer": "ipython3",
   "version": "3.5.2"
  }
 },
 "nbformat": 4,
 "nbformat_minor": 2
}
